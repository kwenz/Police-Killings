{
 "cells": [
  {
   "cell_type": "code",
   "execution_count": 294,
   "metadata": {},
   "outputs": [],
   "source": [
    "import pandas as pd\n",
    "import numpy as np\n",
    "import matplotlib.pyplot as plt\n",
    "from calendar import weekday\n",
    "from scipy.stats import linregress"
   ]
  },
  {
   "cell_type": "code",
   "execution_count": 23,
   "metadata": {},
   "outputs": [
    {
     "name": "stderr",
     "output_type": "stream",
     "text": [
      "c:\\python\\python37\\lib\\site-packages\\IPython\\core\\interactiveshell.py:3020: DtypeWarning: Columns (12,13,14,15,27,29) have mixed types.Specify dtype option on import or set low_memory=False.\n",
      "  interactivity=interactivity, compiler=compiler, result=result)\n"
     ]
    }
   ],
   "source": [
    "awards=pd.read_csv('Recent_Contract_Awards.csv')"
   ]
  },
  {
   "cell_type": "code",
   "execution_count": 4,
   "metadata": {},
   "outputs": [
    {
     "data": {
      "text/html": [
       "<div>\n",
       "<style scoped>\n",
       "    .dataframe tbody tr th:only-of-type {\n",
       "        vertical-align: middle;\n",
       "    }\n",
       "\n",
       "    .dataframe tbody tr th {\n",
       "        vertical-align: top;\n",
       "    }\n",
       "\n",
       "    .dataframe thead th {\n",
       "        text-align: right;\n",
       "    }\n",
       "</style>\n",
       "<table border=\"1\" class=\"dataframe\">\n",
       "  <thead>\n",
       "    <tr style=\"text-align: right;\">\n",
       "      <th></th>\n",
       "      <th>RequestID</th>\n",
       "      <th>StartDate</th>\n",
       "      <th>EndDate</th>\n",
       "      <th>AgencyName</th>\n",
       "      <th>TypeOfNoticeDescription</th>\n",
       "      <th>CategoryDescription</th>\n",
       "      <th>ShortTitle</th>\n",
       "      <th>SelectionMethodDescription</th>\n",
       "      <th>SectionName</th>\n",
       "      <th>SpecialCaseReasonDescription</th>\n",
       "      <th>...</th>\n",
       "      <th>Printout2</th>\n",
       "      <th>Printout3</th>\n",
       "      <th>DocumentLinks</th>\n",
       "      <th>EventDate</th>\n",
       "      <th>EventBuildingName</th>\n",
       "      <th>EventStreetAddress1</th>\n",
       "      <th>EventStreetAddress2</th>\n",
       "      <th>EventCity</th>\n",
       "      <th>EventStateCode</th>\n",
       "      <th>EventZipCode</th>\n",
       "    </tr>\n",
       "  </thead>\n",
       "  <tbody>\n",
       "    <tr>\n",
       "      <th>0</th>\n",
       "      <td>20100628021</td>\n",
       "      <td>07/06/2010</td>\n",
       "      <td>07/06/2010</td>\n",
       "      <td>Transportation</td>\n",
       "      <td>Award</td>\n",
       "      <td>Services (other than human services)</td>\n",
       "      <td>NOTICE OF AWARD OF CONCESSION AT EAST RIVER PI...</td>\n",
       "      <td>Competitive Sealed Bids</td>\n",
       "      <td>Procurement</td>\n",
       "      <td>NaN</td>\n",
       "      <td>...</td>\n",
       "      <td>NaN</td>\n",
       "      <td>NaN</td>\n",
       "      <td>https://a856-cityrecord.nyc.gov/Search/GetFile...</td>\n",
       "      <td>NaN</td>\n",
       "      <td>NaN</td>\n",
       "      <td>NaN</td>\n",
       "      <td>NaN</td>\n",
       "      <td>NaN</td>\n",
       "      <td>NaN</td>\n",
       "      <td>NaN</td>\n",
       "    </tr>\n",
       "    <tr>\n",
       "      <th>1</th>\n",
       "      <td>20130214010</td>\n",
       "      <td>02/22/2013</td>\n",
       "      <td>02/22/2013</td>\n",
       "      <td>Parks and Recreation</td>\n",
       "      <td>Award</td>\n",
       "      <td>Services (other than human services)</td>\n",
       "      <td>DEPARTMENT OF PARKS  AND  RECREATION NOTICE OF...</td>\n",
       "      <td>Public Bid</td>\n",
       "      <td>Procurement</td>\n",
       "      <td>NaN</td>\n",
       "      <td>...</td>\n",
       "      <td>NaN</td>\n",
       "      <td>NaN</td>\n",
       "      <td>https://a856-cityrecord.nyc.gov/Search/GetFile...</td>\n",
       "      <td>NaN</td>\n",
       "      <td>NaN</td>\n",
       "      <td>NaN</td>\n",
       "      <td>NaN</td>\n",
       "      <td>NaN</td>\n",
       "      <td>NaN</td>\n",
       "      <td>NaN</td>\n",
       "    </tr>\n",
       "    <tr>\n",
       "      <th>2</th>\n",
       "      <td>20090911004</td>\n",
       "      <td>09/18/2009</td>\n",
       "      <td>09/18/2009</td>\n",
       "      <td>Transportation</td>\n",
       "      <td>Award</td>\n",
       "      <td>Services (other than human services)</td>\n",
       "      <td>OPERATION, MANAGEMENT, AND MAINTENANCE OF PEDE...</td>\n",
       "      <td>Sole Source</td>\n",
       "      <td>Procurement</td>\n",
       "      <td>Other (Describe below in Other Legally Mandate...</td>\n",
       "      <td>...</td>\n",
       "      <td>NaN</td>\n",
       "      <td>NaN</td>\n",
       "      <td>https://a856-cityrecord.nyc.gov/Search/GetFile...</td>\n",
       "      <td>NaN</td>\n",
       "      <td>NaN</td>\n",
       "      <td>NaN</td>\n",
       "      <td>NaN</td>\n",
       "      <td>NaN</td>\n",
       "      <td>NaN</td>\n",
       "      <td>NaN</td>\n",
       "    </tr>\n",
       "    <tr>\n",
       "      <th>3</th>\n",
       "      <td>20130415019</td>\n",
       "      <td>04/22/2013</td>\n",
       "      <td>04/22/2013</td>\n",
       "      <td>Parks and Recreation</td>\n",
       "      <td>Award</td>\n",
       "      <td>Goods</td>\n",
       "      <td>NOTICE OF AWARD</td>\n",
       "      <td>Public Bid</td>\n",
       "      <td>Procurement</td>\n",
       "      <td>NaN</td>\n",
       "      <td>...</td>\n",
       "      <td>NaN</td>\n",
       "      <td>NaN</td>\n",
       "      <td>https://a856-cityrecord.nyc.gov/Search/GetFile...</td>\n",
       "      <td>NaN</td>\n",
       "      <td>NaN</td>\n",
       "      <td>NaN</td>\n",
       "      <td>NaN</td>\n",
       "      <td>NaN</td>\n",
       "      <td>NaN</td>\n",
       "      <td>NaN</td>\n",
       "    </tr>\n",
       "    <tr>\n",
       "      <th>4</th>\n",
       "      <td>20110623031</td>\n",
       "      <td>06/24/2011</td>\n",
       "      <td>06/24/2011</td>\n",
       "      <td>Transportation</td>\n",
       "      <td>Award</td>\n",
       "      <td>Services (other than human services)</td>\n",
       "      <td>AIRPORT BUS FRANCHISE NOTICE OF AWARD</td>\n",
       "      <td>Request for Proposals</td>\n",
       "      <td>Procurement</td>\n",
       "      <td>NaN</td>\n",
       "      <td>...</td>\n",
       "      <td>NaN</td>\n",
       "      <td>NaN</td>\n",
       "      <td>https://a856-cityrecord.nyc.gov/Search/GetFile...</td>\n",
       "      <td>NaN</td>\n",
       "      <td>NaN</td>\n",
       "      <td>NaN</td>\n",
       "      <td>NaN</td>\n",
       "      <td>NaN</td>\n",
       "      <td>NaN</td>\n",
       "      <td>NaN</td>\n",
       "    </tr>\n",
       "  </tbody>\n",
       "</table>\n",
       "<p>5 rows × 37 columns</p>\n",
       "</div>"
      ],
      "text/plain": [
       "     RequestID   StartDate     EndDate            AgencyName  \\\n",
       "0  20100628021  07/06/2010  07/06/2010        Transportation   \n",
       "1  20130214010  02/22/2013  02/22/2013  Parks and Recreation   \n",
       "2  20090911004  09/18/2009  09/18/2009        Transportation   \n",
       "3  20130415019  04/22/2013  04/22/2013  Parks and Recreation   \n",
       "4  20110623031  06/24/2011  06/24/2011        Transportation   \n",
       "\n",
       "  TypeOfNoticeDescription                   CategoryDescription  \\\n",
       "0                   Award  Services (other than human services)   \n",
       "1                   Award  Services (other than human services)   \n",
       "2                   Award  Services (other than human services)   \n",
       "3                   Award                                 Goods   \n",
       "4                   Award  Services (other than human services)   \n",
       "\n",
       "                                          ShortTitle  \\\n",
       "0  NOTICE OF AWARD OF CONCESSION AT EAST RIVER PI...   \n",
       "1  DEPARTMENT OF PARKS  AND  RECREATION NOTICE OF...   \n",
       "2  OPERATION, MANAGEMENT, AND MAINTENANCE OF PEDE...   \n",
       "3                                    NOTICE OF AWARD   \n",
       "4              AIRPORT BUS FRANCHISE NOTICE OF AWARD   \n",
       "\n",
       "  SelectionMethodDescription  SectionName  \\\n",
       "0    Competitive Sealed Bids  Procurement   \n",
       "1                 Public Bid  Procurement   \n",
       "2                Sole Source  Procurement   \n",
       "3                 Public Bid  Procurement   \n",
       "4      Request for Proposals  Procurement   \n",
       "\n",
       "                        SpecialCaseReasonDescription  ... Printout2  \\\n",
       "0                                                NaN  ...       NaN   \n",
       "1                                                NaN  ...       NaN   \n",
       "2  Other (Describe below in Other Legally Mandate...  ...       NaN   \n",
       "3                                                NaN  ...       NaN   \n",
       "4                                                NaN  ...       NaN   \n",
       "\n",
       "   Printout3                                      DocumentLinks EventDate  \\\n",
       "0        NaN  https://a856-cityrecord.nyc.gov/Search/GetFile...       NaN   \n",
       "1        NaN  https://a856-cityrecord.nyc.gov/Search/GetFile...       NaN   \n",
       "2        NaN  https://a856-cityrecord.nyc.gov/Search/GetFile...       NaN   \n",
       "3        NaN  https://a856-cityrecord.nyc.gov/Search/GetFile...       NaN   \n",
       "4        NaN  https://a856-cityrecord.nyc.gov/Search/GetFile...       NaN   \n",
       "\n",
       "  EventBuildingName EventStreetAddress1  EventStreetAddress2  EventCity  \\\n",
       "0               NaN                 NaN                  NaN        NaN   \n",
       "1               NaN                 NaN                  NaN        NaN   \n",
       "2               NaN                 NaN                  NaN        NaN   \n",
       "3               NaN                 NaN                  NaN        NaN   \n",
       "4               NaN                 NaN                  NaN        NaN   \n",
       "\n",
       "  EventStateCode  EventZipCode  \n",
       "0            NaN           NaN  \n",
       "1            NaN           NaN  \n",
       "2            NaN           NaN  \n",
       "3            NaN           NaN  \n",
       "4            NaN           NaN  \n",
       "\n",
       "[5 rows x 37 columns]"
      ]
     },
     "execution_count": 4,
     "metadata": {},
     "output_type": "execute_result"
    }
   ],
   "source": [
    "awards.head()"
   ]
  },
  {
   "cell_type": "code",
   "execution_count": 5,
   "metadata": {},
   "outputs": [
    {
     "name": "stdout",
     "output_type": "stream",
     "text": [
      "Index(['RequestID', 'StartDate', 'EndDate', 'AgencyName',\n",
      "       'TypeOfNoticeDescription', 'CategoryDescription', 'ShortTitle',\n",
      "       'SelectionMethodDescription', 'SectionName',\n",
      "       'SpecialCaseReasonDescription', 'PIN', 'DueDate', 'AddressToRequest',\n",
      "       'ContactName', 'ContactPhone', 'Email', 'ContractAmount', 'ContactFax',\n",
      "       'AdditionalDescription1', 'AdditionalDesctription2',\n",
      "       'AdditionalDescription3', 'OtherInfo1', 'OtherInfo2', 'OtherInfo3',\n",
      "       'VendorName', 'VendorAddress', 'Printout1', 'Printout2', 'Printout3',\n",
      "       'DocumentLinks', 'EventDate', 'EventBuildingName',\n",
      "       'EventStreetAddress1', 'EventStreetAddress2', 'EventCity',\n",
      "       'EventStateCode', 'EventZipCode'],\n",
      "      dtype='object')\n"
     ]
    }
   ],
   "source": [
    "print(awards.columns)"
   ]
  },
  {
   "cell_type": "code",
   "execution_count": 24,
   "metadata": {},
   "outputs": [],
   "source": [
    "awards['StartYear']=pd.to_numeric(awards.StartDate.str[-4:])"
   ]
  },
  {
   "cell_type": "code",
   "execution_count": 25,
   "metadata": {},
   "outputs": [],
   "source": [
    "awards=awards[(awards['StartYear']<=2019) & (awards['StartYear']>=2010)]"
   ]
  },
  {
   "cell_type": "code",
   "execution_count": 26,
   "metadata": {},
   "outputs": [
    {
     "name": "stdout",
     "output_type": "stream",
     "text": [
      "(18198, 38)\n"
     ]
    }
   ],
   "source": [
    "awards=awards[(awards['ContractAmount']>0) & awards['ContractAmount'].notnull()]\n",
    "print(awards.shape)"
   ]
  },
  {
   "cell_type": "code",
   "execution_count": 33,
   "metadata": {},
   "outputs": [
    {
     "name": "stdout",
     "output_type": "stream",
     "text": [
      "207783994327.83997\n"
     ]
    }
   ],
   "source": [
    "print(awards.ContractAmount.sum())"
   ]
  },
  {
   "cell_type": "code",
   "execution_count": 35,
   "metadata": {
    "scrolled": true
   },
   "outputs": [
    {
     "name": "stdout",
     "output_type": "stream",
     "text": [
      "Citywide Administrative Services                      5098\n",
      "Health and Mental Hygiene                             2145\n",
      "Dept Of Social Svcs/Human Resources Administration    1822\n",
      "Design and Construction                               1454\n",
      "Administration for Children's Services                 892\n",
      "Environmental Protection                               814\n",
      "Housing Preservation and Development                   745\n",
      "Parks and Recreation                                   709\n",
      "Aging                                                  548\n",
      "Transportation                                         545\n",
      "Comptroller                                            494\n",
      "Homeless Services                                      493\n",
      "Information Technology and Telecommunications          352\n",
      "Sanitation                                             261\n",
      "Correction                                             232\n",
      "Police                                                 200\n",
      "Employees' Retirement System                           186\n",
      "Fire Department                                        154\n",
      "Probation                                              145\n",
      "Chief Medical Examiner                                 118\n",
      "Finance                                                106\n",
      "Financial Information Services Agency                   93\n",
      "Emergency Management                                    89\n",
      "Buildings                                               52\n",
      "Mayor's Office of Criminal Justice                      50\n",
      "Small Business Services                                 44\n",
      "Human Resources Administration                          35\n",
      "Office of Management and Budget                         32\n",
      "Consumer Affairs                                        30\n",
      "Board of Elections                                      25\n",
      "City Planning                                           21\n",
      "Cultural Affairs                                        20\n",
      "New York City Police Pension Fund                       19\n",
      "Office of the Mayor                                     19\n",
      "Administrative Trials and Hearings                      17\n",
      "Youth and Community Development                         16\n",
      "Commission on Human Rights                              11\n",
      "Borough President - Queens                              10\n",
      "City Council                                            10\n",
      "District Attorney - Kings County                         9\n",
      "Taxi and Limousine Commission                            9\n",
      "Law Department                                           8\n",
      "Office of Payroll Administration                         8\n",
      "Campaign Finance Board                                   7\n",
      "Battery Park City Authority                              7\n",
      "Civilian Complaint Review Board                          5\n",
      "Education                                                5\n",
      "District Attorney - Bronx County                         4\n",
      "Economic Development Corporation                         4\n",
      "Juvenile Justice                                         4\n",
      "Office of Labor Relations                                3\n",
      "Investigation                                            3\n",
      "City University                                          2\n",
      "Teachers' Retirement System                              2\n",
      "Office of Special Narcotics Prose                        2\n",
      "Board of Correction                                      2\n",
      "Records and Information Services                         1\n",
      "Office of Collective Bargaining                          1\n",
      "District Attorney - New York County                      1\n",
      "Independent Budget Office                                1\n",
      "Borough President - Manhattan                            1\n",
      "Landmarks Preservation Commission                        1\n",
      "City Clerk                                               1\n",
      "Veterans' Services                                       1\n"
     ]
    }
   ],
   "source": [
    "print(awards.AgencyName.value_counts().to_string())"
   ]
  },
  {
   "cell_type": "code",
   "execution_count": 39,
   "metadata": {},
   "outputs": [
    {
     "name": "stdout",
     "output_type": "stream",
     "text": [
      "['Citywide Administrative Services', 'Health and Mental Hygiene', 'Dept Of Social Svcs/Human Resources Administration', 'Design and Construction', \"Administration for Children's Services\"]\n"
     ]
    }
   ],
   "source": [
    "top5_agencies=[agency for agency in awards.AgencyName.value_counts().head(5).keys()]\n",
    "print(top5_agencies)"
   ]
  },
  {
   "cell_type": "code",
   "execution_count": 61,
   "metadata": {},
   "outputs": [],
   "source": [
    "top5_agencies_awards=awards[awards['AgencyName'].isin(top5_agencies)]"
   ]
  },
  {
   "cell_type": "code",
   "execution_count": 43,
   "metadata": {},
   "outputs": [
    {
     "name": "stdout",
     "output_type": "stream",
     "text": [
      "(11411, 38)\n",
      "Citywide Administrative Services                      5098\n",
      "Health and Mental Hygiene                             2145\n",
      "Dept Of Social Svcs/Human Resources Administration    1822\n",
      "Design and Construction                               1454\n",
      "Administration for Children's Services                 892\n",
      "Name: AgencyName, dtype: int64\n"
     ]
    }
   ],
   "source": [
    "print(top5_agencies_awards.shape)\n",
    "print(top5_agencies_awards.AgencyName.value_counts())"
   ]
  },
  {
   "cell_type": "code",
   "execution_count": 62,
   "metadata": {},
   "outputs": [],
   "source": [
    "top5_agencies_awards=top5_agencies_awards.groupby(['AgencyName']).mean()\n",
    "top5_agencies_awards.sort_values('ContractAmount',inplace=True)\n",
    "top5_agencies_awards=top5_agencies_awards['ContractAmount']"
   ]
  },
  {
   "cell_type": "code",
   "execution_count": 63,
   "metadata": {},
   "outputs": [
    {
     "name": "stdout",
     "output_type": "stream",
     "text": [
      "AgencyName\n",
      "Citywide Administrative Services                      3.794259e+06\n",
      "Dept Of Social Svcs/Human Resources Administration    5.514949e+06\n",
      "Administration for Children's Services                6.911672e+06\n",
      "Design and Construction                               1.076263e+07\n",
      "Health and Mental Hygiene                             5.157880e+07\n",
      "Name: ContractAmount, dtype: float64\n"
     ]
    }
   ],
   "source": [
    "print(top5_agencies_awards)"
   ]
  },
  {
   "cell_type": "code",
   "execution_count": 64,
   "metadata": {},
   "outputs": [
    {
     "name": "stdout",
     "output_type": "stream",
     "text": [
      "4.792395919467627\n"
     ]
    }
   ],
   "source": [
    "print(top5_agencies_awards.iloc[-1]/top5_agencies_awards.iloc[-2])"
   ]
  },
  {
   "cell_type": "code",
   "execution_count": 73,
   "metadata": {},
   "outputs": [],
   "source": [
    "CAS=awards[awards['AgencyName']=='Citywide Administrative Services']"
   ]
  },
  {
   "cell_type": "code",
   "execution_count": 74,
   "metadata": {
    "scrolled": true
   },
   "outputs": [],
   "source": [
    "CAS_per_vendor=CAS.groupby(['VendorName']).sum()\n",
    "CAS_per_vendor.sort_values('ContractAmount',inplace=True)\n",
    "CAS_per_vendor=CAS_per_vendor['ContractAmount']"
   ]
  },
  {
   "cell_type": "code",
   "execution_count": 83,
   "metadata": {},
   "outputs": [
    {
     "name": "stdout",
     "output_type": "stream",
     "text": [
      "0.16575127500980777\n"
     ]
    }
   ],
   "source": [
    "print(sum(CAS.VendorName.value_counts().head(50))/sum(CAS.VendorName.value_counts()))"
   ]
  },
  {
   "cell_type": "code",
   "execution_count": 84,
   "metadata": {},
   "outputs": [],
   "source": [
    "PAR=awards[awards['AgencyName']=='Parks and Recreation']"
   ]
  },
  {
   "cell_type": "code",
   "execution_count": 87,
   "metadata": {},
   "outputs": [],
   "source": [
    "month_day=PAR.StartDate.str.split('/')"
   ]
  },
  {
   "cell_type": "code",
   "execution_count": 96,
   "metadata": {
    "scrolled": true
   },
   "outputs": [
    {
     "name": "stderr",
     "output_type": "stream",
     "text": [
      "c:\\python\\python37\\lib\\site-packages\\ipykernel_launcher.py:1: SettingWithCopyWarning: \n",
      "A value is trying to be set on a copy of a slice from a DataFrame.\n",
      "Try using .loc[row_indexer,col_indexer] = value instead\n",
      "\n",
      "See the caveats in the documentation: https://pandas.pydata.org/pandas-docs/stable/user_guide/indexing.html#returning-a-view-versus-a-copy\n",
      "  \"\"\"Entry point for launching an IPython kernel.\n",
      "c:\\python\\python37\\lib\\site-packages\\ipykernel_launcher.py:2: SettingWithCopyWarning: \n",
      "A value is trying to be set on a copy of a slice from a DataFrame.\n",
      "Try using .loc[row_indexer,col_indexer] = value instead\n",
      "\n",
      "See the caveats in the documentation: https://pandas.pydata.org/pandas-docs/stable/user_guide/indexing.html#returning-a-view-versus-a-copy\n",
      "  \n"
     ]
    }
   ],
   "source": [
    "PAR['StartDay']=pd.to_numeric(month_day.str.get(1))\n",
    "PAR['StartMonth']=pd.to_numeric(month_day.str.get(0))"
   ]
  },
  {
   "cell_type": "code",
   "execution_count": 98,
   "metadata": {},
   "outputs": [],
   "source": [
    "def day_of_the_week(year,month,day):\n",
    "    days=['Monday','Tuesday','Wednesday','Thursday','Friday','Saturday','Sunday']\n",
    "    return days[weekday(year,month,day)]"
   ]
  },
  {
   "cell_type": "code",
   "execution_count": 99,
   "metadata": {},
   "outputs": [
    {
     "name": "stderr",
     "output_type": "stream",
     "text": [
      "c:\\python\\python37\\lib\\site-packages\\ipykernel_launcher.py:1: SettingWithCopyWarning: \n",
      "A value is trying to be set on a copy of a slice from a DataFrame.\n",
      "Try using .loc[row_indexer,col_indexer] = value instead\n",
      "\n",
      "See the caveats in the documentation: https://pandas.pydata.org/pandas-docs/stable/user_guide/indexing.html#returning-a-view-versus-a-copy\n",
      "  \"\"\"Entry point for launching an IPython kernel.\n"
     ]
    }
   ],
   "source": [
    "PAR['Weekday']=PAR.apply(lambda row: day_of_the_week(row['StartYear'],row['StartMonth'],row['StartDay']),axis=1)"
   ]
  },
  {
   "cell_type": "code",
   "execution_count": 101,
   "metadata": {},
   "outputs": [
    {
     "name": "stdout",
     "output_type": "stream",
     "text": [
      "Tuesday      163\n",
      "Friday       152\n",
      "Wednesday    145\n",
      "Monday       130\n",
      "Thursday     119\n",
      "Name: Weekday, dtype: int64\n"
     ]
    }
   ],
   "source": [
    "print(PAR.Weekday.value_counts())"
   ]
  },
  {
   "cell_type": "code",
   "execution_count": 102,
   "metadata": {},
   "outputs": [],
   "source": [
    "expected=PAR.Weekday.value_counts().sum()/5\n",
    "chi_sq=0\n",
    "for i in range(len(PAR.Weekday.value_counts())):\n",
    "    chi_sq+=(PAR.Weekday.value_counts()[i]-expected)**2/expected"
   ]
  },
  {
   "cell_type": "code",
   "execution_count": 103,
   "metadata": {},
   "outputs": [
    {
     "name": "stdout",
     "output_type": "stream",
     "text": [
      "141.8\n",
      "8.623413258110013\n"
     ]
    }
   ],
   "source": [
    "print(expected)\n",
    "print(chi_sq)"
   ]
  },
  {
   "cell_type": "code",
   "execution_count": 104,
   "metadata": {},
   "outputs": [
    {
     "name": "stdout",
     "output_type": "stream",
     "text": [
      "Power_divergenceResult(statistic=8.623413258110013, pvalue=0.07123340164293498)\n"
     ]
    }
   ],
   "source": [
    "from scipy.stats import chisquare\n",
    "print(chisquare(PAR.Weekday.value_counts()))"
   ]
  },
  {
   "cell_type": "code",
   "execution_count": 105,
   "metadata": {},
   "outputs": [
    {
     "name": "stdout",
     "output_type": "stream",
     "text": [
      "Human Services/Client Services          5476\n",
      "Goods                                   5329\n",
      "Services (other than human services)    3225\n",
      "Construction/Construction Services      2293\n",
      "Goods and Services                       973\n",
      "Construction Related Services            902\n",
      "Name: CategoryDescription, dtype: int64\n"
     ]
    }
   ],
   "source": [
    "print(awards.CategoryDescription.value_counts())"
   ]
  },
  {
   "cell_type": "code",
   "execution_count": 159,
   "metadata": {},
   "outputs": [],
   "source": [
    "construction=awards[awards.CategoryDescription=='Construction/Construction Services']"
   ]
  },
  {
   "cell_type": "code",
   "execution_count": 160,
   "metadata": {},
   "outputs": [
    {
     "name": "stdout",
     "output_type": "stream",
     "text": [
      "30     REQUIREMENTS CONTRACT FOR UPGRADING OF UNDERGR...\n",
      "140    CRO-536 DES: DESIGN SERVICES FOR CROSS RIVER A...\n",
      "142    DORM \u001aK\u001a ELEVATOR REPLACEMENT AT ANNA M. KROSS...\n",
      "144                             NON-EMERGENCY DEMOLITION\n",
      "152                   ELEVATOR UPGRADE, 80 CENTRE STREET\n",
      "162                       IMMEDIATE EMERGENCY DEMOLITION\n",
      "170    FOREST HILLS BRANCH LIBRARY ROOF REPLACEMENTS-...\n",
      "173       JOC-13-EH: JOB ORDER CONTRACT HVAC EAST REGION\n",
      "176                             NON-EMERGENCY DEMOLITION\n",
      "179    ON-CALL CONTRACT FOR PROJECT MANAGEMENT AND RE...\n",
      "Name: ShortTitle, dtype: object\n"
     ]
    }
   ],
   "source": [
    "print(construction.ShortTitle.head(10))"
   ]
  },
  {
   "cell_type": "code",
   "execution_count": 235,
   "metadata": {},
   "outputs": [],
   "source": [
    "c_park=construction.ShortTitle.str.contains('(?:^|\\W)(CENTRAL PARK)(?:$|\\W)')\n",
    "w_park=construction.ShortTitle.str.contains('(?:^|\\W)(WASHINGTON SQUARE PARK)(?:$|\\W)')\n",
    "all_parks=construction.ShortTitle.str.contains('(?:^|\\W)(PARK)(?:$|\\W)')"
   ]
  },
  {
   "cell_type": "code",
   "execution_count": 236,
   "metadata": {},
   "outputs": [],
   "source": [
    "c_park_construction=construction[c_park]\n",
    "w_park_construction=construction[w_park]\n",
    "all_park_construction=construction[all_parks]"
   ]
  },
  {
   "cell_type": "code",
   "execution_count": 237,
   "metadata": {},
   "outputs": [
    {
     "name": "stdout",
     "output_type": "stream",
     "text": [
      "519    INSTALLATION OF LIGHTS AND TRAFFIC SIGNALS IN ...\n",
      "Name: ShortTitle, dtype: object\n",
      "32835    WATER MAIN CONNECTION AT WASHINGTON SQUARE PAR...\n",
      "Name: ShortTitle, dtype: object\n",
      "380     QUEENS THEATRE IN THE PARK, ORIGINAL CIRCULAR ...\n",
      "519     INSTALLATION OF LIGHTS AND TRAFFIC SIGNALS IN ...\n",
      "1117    CONSTRUCTION OF STARLIGHT PARK-PHASE II, STAGE...\n",
      "1847    RECONSTRUCTION OF RUNNING TRACK AND ADJACENT F...\n",
      "2624               RECONSTRUCTION OF JACKIE ROBINSON PARK\n",
      "Name: ShortTitle, dtype: object\n"
     ]
    }
   ],
   "source": [
    "print(c_park_construction.ShortTitle.head())\n",
    "print(w_park_construction.ShortTitle.head())\n",
    "print(all_park_construction.ShortTitle.head())"
   ]
  },
  {
   "cell_type": "code",
   "execution_count": 238,
   "metadata": {},
   "outputs": [
    {
     "name": "stdout",
     "output_type": "stream",
     "text": [
      "1.438993463252562\n"
     ]
    }
   ],
   "source": [
    "print(c_park_construction.ContractAmount.sum()/w_park_construction.ContractAmount.sum())"
   ]
  },
  {
   "cell_type": "code",
   "execution_count": 239,
   "metadata": {},
   "outputs": [],
   "source": [
    "month_day=awards.StartDate.str.split('/')\n",
    "awards['StartDay']=pd.to_numeric(month_day.str.get(1))\n",
    "awards['StartMonth']=pd.to_numeric(month_day.str.get(0))\n",
    "awards['Weekday']=awards.apply(lambda row: day_of_the_week(row['StartYear'],row['StartMonth'],row['StartDay']),axis=1)"
   ]
  },
  {
   "cell_type": "code",
   "execution_count": 241,
   "metadata": {},
   "outputs": [],
   "source": [
    "EPA=awards[awards.AgencyName=='Environmental Protection']"
   ]
  },
  {
   "cell_type": "code",
   "execution_count": 242,
   "metadata": {},
   "outputs": [
    {
     "name": "stderr",
     "output_type": "stream",
     "text": [
      "c:\\python\\python37\\lib\\site-packages\\ipykernel_launcher.py:1: SettingWithCopyWarning: \n",
      "A value is trying to be set on a copy of a slice from a DataFrame\n",
      "\n",
      "See the caveats in the documentation: https://pandas.pydata.org/pandas-docs/stable/user_guide/indexing.html#returning-a-view-versus-a-copy\n",
      "  \"\"\"Entry point for launching an IPython kernel.\n"
     ]
    }
   ],
   "source": [
    "EPA.sort_values(['StartYear','StartMonth','StartDay'],inplace=True)"
   ]
  },
  {
   "cell_type": "code",
   "execution_count": 259,
   "metadata": {},
   "outputs": [],
   "source": [
    "EPA_grouped=EPA.groupby(['StartYear','StartMonth']).sum().reset_index()"
   ]
  },
  {
   "cell_type": "code",
   "execution_count": 249,
   "metadata": {},
   "outputs": [
    {
     "name": "stdout",
     "output_type": "stream",
     "text": [
      "[2010 2011 2012 2013 2014 2015 2016 2017 2018 2019]\n"
     ]
    }
   ],
   "source": [
    "EPA_expenditure=np.zeros((10*12,))\n",
    "years=np.arange(2010,2020)\n",
    "months=np.arange(1,13)"
   ]
  },
  {
   "cell_type": "code",
   "execution_count": 278,
   "metadata": {},
   "outputs": [],
   "source": [
    "k=0\n",
    "for i in range(10):\n",
    "    for j in range(12):\n",
    "        if (EPA_grouped.StartYear.iloc[k]==years[i]) and (EPA_grouped.StartMonth.iloc[k]==months[j]):\n",
    "            EPA_expenditure[i*12+j]=EPA_grouped.ContractAmount.iloc[k]\n",
    "            k+=1"
   ]
  },
  {
   "cell_type": "code",
   "execution_count": 281,
   "metadata": {},
   "outputs": [
    {
     "data": {
      "text/plain": [
       "[<matplotlib.lines.Line2D at 0x22d735a0b00>]"
      ]
     },
     "execution_count": 281,
     "metadata": {},
     "output_type": "execute_result"
    },
    {
     "data": {
      "image/png": "[encoded data removed]",
      "text/plain": [
       "<Figure size 576x576 with 1 Axes>"
      ]
     },
     "metadata": {
      "needs_background": "light"
     },
     "output_type": "display_data"
    }
   ],
   "source": [
    "fig=plt.figure(figsize=(8,8))\n",
    "ax=fig.add_subplot(111)\n",
    "ax.plot(EPA_expenditure)"
   ]
  },
  {
   "cell_type": "code",
   "execution_count": 288,
   "metadata": {},
   "outputs": [
    {
     "name": "stdout",
     "output_type": "stream",
     "text": [
      "8.90520572789052e+17\n"
     ]
    }
   ],
   "source": [
    "autocorrelation=np.correlate(EPA_expenditure,EPA_expenditure,mode='full')\n",
    "autocorrelation=autocorrelation[int(len(autocorrelation)/2):]\n",
    "print(autocorrelation[12])"
   ]
  },
  {
   "cell_type": "code",
   "execution_count": 292,
   "metadata": {},
   "outputs": [
    {
     "name": "stdout",
     "output_type": "stream",
     "text": [
      "5.256653152320387\n"
     ]
    }
   ],
   "source": [
    "norm_EPA_expenditure=(EPA_expenditure-np.mean(EPA_expenditure))/np.std(EPA_expenditure)\n",
    "norm_autocorrelation=np.correlate(norm_EPA_expenditure,norm_EPA_expenditure,mode='full')\n",
    "norm_autocorrelation=norm_autocorrelation[int(len(norm_autocorrelation)/2):]\n",
    "print(norm_autocorrelation[12])"
   ]
  },
  {
   "cell_type": "code",
   "execution_count": 293,
   "metadata": {},
   "outputs": [
    {
     "data": {
      "text/plain": [
       "[<matplotlib.lines.Line2D at 0x22d73e2c198>]"
      ]
     },
     "execution_count": 293,
     "metadata": {},
     "output_type": "execute_result"
    },
    {
     "data": {
      "image/png": "[encoded data removed]",
      "text/plain": [
       "<Figure size 576x576 with 1 Axes>"
      ]
     },
     "metadata": {
      "needs_background": "light"
     },
     "output_type": "display_data"
    }
   ],
   "source": [
    "fig=plt.figure(figsize=(8,8))\n",
    "ax=fig.add_subplot(111)\n",
    "ax.plot(norm_autocorrelation)"
   ]
  },
  {
   "cell_type": "code",
   "execution_count": 296,
   "metadata": {},
   "outputs": [],
   "source": [
    "CAS_goods=awards[(awards['AgencyName']=='Citywide Administrative Services') & (awards['CategoryDescription']=='Goods')]"
   ]
  },
  {
   "cell_type": "code",
   "execution_count": 301,
   "metadata": {},
   "outputs": [],
   "source": [
    "CAS_goods_val=np.array(CAS_goods.groupby('StartYear').sum().ContractAmount.values)"
   ]
  },
  {
   "cell_type": "code",
   "execution_count": 303,
   "metadata": {},
   "outputs": [
    {
     "name": "stdout",
     "output_type": "stream",
     "text": [
      "r-value = 0.5998970133980953\n"
     ]
    },
    {
     "data": {
      "image/png": "[encoded data removed]",
      "text/plain": [
       "<Figure size 576x576 with 1 Axes>"
      ]
     },
     "metadata": {
      "needs_background": "light"
     },
     "output_type": "display_data"
    }
   ],
   "source": [
    "years_since_2010=np.arange(0,10)\n",
    "slope, intercept, r_value, p_value, std_err = linregress(years_since_2010,CAS_goods_val)\n",
    "fig=plt.figure(figsize=(8,8))\n",
    "ax=fig.add_subplot(111)\n",
    "ax.plot(years_since_2010,CAS_goods_val,'o')\n",
    "ax.plot(years_since_2010,slope*years_since_2010+intercept,'r-')\n",
    "print('r-value = {}'.format(r_value))"
   ]
  },
  {
   "cell_type": "code",
   "execution_count": 339,
   "metadata": {},
   "outputs": [],
   "source": [
    "awards_2018=awards[awards['StartYear']==2018]"
   ]
  },
  {
   "cell_type": "code",
   "execution_count": 353,
   "metadata": {},
   "outputs": [],
   "source": [
    "NYC_zipcodes=[10453, 10457, 10460,10458, 10467, 10468,10451, 10452, 10456,10454, 10455, 10459, 10474,10463,10471,10466, 10469, 10470, 10475,\\\n",
    "10461, 10462,10464, 10465, 10472, 10473,11212, 11213, 11216, 11233, 11238,11209, 11214, 11228,11204, 11218, 11219, 11230,\\\n",
    "11234, 11236, 11239,11223, 11224, 11229, 11235,11201, 11205, 11215, 11217, 11231,11203, 11210, 11225, 11226,11207, 11208,\\\n",
    "11211, 11222,11220, 11232,11206, 11221, 11237,10026, 10027, 10030, 10037, 10039,10001, 10011, 10018, 10019, 10020, 10036,\\\n",
    "10029, 10035,10010, 10016, 10017, 10022,10012, 10013, 10014,10004, 10005, 10006, 10007, 10038, 10280,10002, 10003, 10009,\\\n",
    "10021, 10028, 10044, 10065, 10075, 10128,10023, 10024, 10025,10031, 10032, 10033, 10034, 10040,11361, 11362, 11363, 11364,\\\n",
    "11354, 11355, 11356, 11357, 11358, 11359, 11360,11365, 11366, 11367,11412, 11423, 11432, 11433, 11434, 11435, 11436,\\\n",
    "11101, 11102, 11103, 11104, 11105, 11106,11374, 11375, 11379, 11385,11691, 11692, 11693, 11694, 11695, 11697,\\\n",
    "11004, 11005, 11411, 11413, 11422, 11426, 11427, 11428, 11429,11414, 11415, 11416, 11417, 11418, 11419, 11420, 11421,\\\n",
    "11368, 11369, 11370, 11372, 11373, 11377, 11378,10302, 10303, 10310,10306, 10307, 10308, 10309, 10312,10301, 10304, 10305,10314]\n",
    "NYC_zipcodes=[str(x) for x in NYC_zipcodes]"
   ]
  },
  {
   "cell_type": "code",
   "execution_count": 348,
   "metadata": {
    "scrolled": true
   },
   "outputs": [
    {
     "name": "stderr",
     "output_type": "stream",
     "text": [
      "c:\\python\\python37\\lib\\site-packages\\ipykernel_launcher.py:1: SettingWithCopyWarning: \n",
      "A value is trying to be set on a copy of a slice from a DataFrame.\n",
      "Try using .loc[row_indexer,col_indexer] = value instead\n",
      "\n",
      "See the caveats in the documentation: https://pandas.pydata.org/pandas-docs/stable/user_guide/indexing.html#returning-a-view-versus-a-copy\n",
      "  \"\"\"Entry point for launching an IPython kernel.\n"
     ]
    }
   ],
   "source": [
    "awards_2018['ZipCode']=awards_2018.VendorAddress.str.extract('(?:$|\\D)(\\d{5})(?:$|\\D)')"
   ]
  },
  {
   "cell_type": "code",
   "execution_count": 354,
   "metadata": {},
   "outputs": [],
   "source": [
    "awards_2018_NYC=awards_2018[awards_2018['ZipCode'].isin(NYC_zipcodes)]\n",
    "awards_2018_outside=awards_2018[~awards_2018['ZipCode'].isin(NYC_zipcodes)]"
   ]
  },
  {
   "cell_type": "code",
   "execution_count": 355,
   "metadata": {},
   "outputs": [
    {
     "name": "stdout",
     "output_type": "stream",
     "text": [
      "10018    111\n",
      "10001     82\n",
      "10004     65\n",
      "10038     45\n",
      "11101     43\n",
      "        ... \n",
      "10034      1\n",
      "11366      1\n",
      "11364      1\n",
      "11004      1\n",
      "10466      1\n",
      "Name: ZipCode, Length: 159, dtype: int64\n",
      "08873    50\n",
      "11961    25\n",
      "11801    19\n",
      "11040    17\n",
      "12203    15\n",
      "         ..\n",
      "10178     1\n",
      "11726     1\n",
      "11796     1\n",
      "07608     1\n",
      "14031     1\n",
      "Name: ZipCode, Length: 454, dtype: int64\n"
     ]
    }
   ],
   "source": [
    "print(awards_2018_NYC.ZipCode.value_counts())\n",
    "print(awards_2018_outside.ZipCode.value_counts())"
   ]
  },
  {
   "cell_type": "code",
   "execution_count": 356,
   "metadata": {},
   "outputs": [
    {
     "name": "stdout",
     "output_type": "stream",
     "text": [
      "6320989206.09\n",
      "12422132563.939999\n"
     ]
    }
   ],
   "source": [
    "total_exp_NYC=awards_2018_NYC.ContractAmount.sum()\n",
    "total_exp_outside=awards_2018_outside.ContractAmount.sum()\n",
    "print(total_exp_NYC)\n",
    "print(total_exp_outside)"
   ]
  },
  {
   "cell_type": "code",
   "execution_count": null,
   "metadata": {},
   "outputs": [],
   "source": []
  }
 ],
 "metadata": {
  "kernelspec": {
   "display_name": "Python 3",
   "language": "python",
   "name": "python3"
  },
  "language_info": {
   "codemirror_mode": {
    "name": "ipython",
    "version": 3
   },
   "file_extension": ".py",
   "mimetype": "text/x-python",
   "name": "python",
   "nbconvert_exporter": "python",
   "pygments_lexer": "ipython3",
   "version": "3.7.2"
  }
 },
 "nbformat": 4,
 "nbformat_minor": 2
}
